{
 "cells": [
  {
   "cell_type": "code",
   "execution_count": 295,
   "metadata": {},
   "outputs": [],
   "source": [
    "import os\n",
    "import numpy as np\n",
    "import pandas as pd\n",
    "import seaborn as sns\n",
    "import matplotlib.pyplot as plt\n",
    "import statsmodels.api as sm\n",
    "import scipy\n",
    "import warnings\n",
    "warnings.filterwarnings('ignore')\n",
    "\n",
    "pd.set_option('display.max_columns', None)  \n",
    "pd.set_option('display.expand_frame_repr', False)\n",
    "pd.set_option('max_colwidth', -1)\n",
    "\n",
    "from datetime import date\n",
    "import re\n",
    "from datetime import datetime"
   ]
  },
  {
   "cell_type": "markdown",
   "metadata": {},
   "source": [
    "# Exploring the data & Preprocessing\n",
    "\n",
    "### We can do a combination of the following for data normalization: \n",
    "1. Convert all entities to upper or lower case, and remove whitespace\n",
    "2. Run a spell checker to remove known typographical errors \n",
    "3. Replace nicknames, and expand abbreviations \n",
    "4. Perform looksups in lexicons \n",
    "5. Tokenize, Stem, or Lemmatize words \n",
    "\n",
    "### We can do a combination of the following for missing values: \n",
    "1. Set to Nan, Null, or remove \n",
    "2. Missing entries can also be filled by aggregating other fields or taking means "
   ]
  },
  {
   "cell_type": "code",
   "execution_count": 296,
   "metadata": {
    "collapsed": true
   },
   "outputs": [],
   "source": [
    "# Read in the data\n",
    "entities = pd.read_csv(\"/Users/Rong/Documents/USF/EntityResolution/Model1/named_resolution.csv\")\n",
    "articles = pd.read_json(\"/Users/Rong/Documents/USF/EntityResolution/Model1/articles.json\")\n"
   ]
  },
  {
   "cell_type": "code",
   "execution_count": 297,
   "metadata": {},
   "outputs": [
    {
     "name": "stdout",
     "output_type": "stream",
     "text": [
      "         id  article_id                               model         name      type  entity_id  paragraph  sentence\n",
      "0  27303856  331842      english.all.3class.distsim.crf.ser  Broadway     LOCATION  2551       1          1       \n",
      "1  27303857  331842      english.all.3class.distsim.crf.ser  Daniel Fish  PERSON    85567      1          2       \n",
      "2  27303858  331842      english.all.3class.distsim.crf.ser  Rodgers      PERSON    70833      1          2       \n",
      "3  27303859  331842      english.all.3class.distsim.crf.ser  Hammerstein  PERSON    98182      1          2       \n",
      "4  27303860  331842      english.all.3class.distsim.crf.ser  Oklahoma     LOCATION  1332       1          2       \n",
      "   article_id         name      type  paragraph\n",
      "0  331842      Broadway     LOCATION  1        \n",
      "1  331842      Daniel Fish  PERSON    1        \n",
      "2  331842      Rodgers      PERSON    1        \n",
      "3  331842      Hammerstein  PERSON    1        \n",
      "4  331842      Oklahoma     LOCATION  1        \n"
     ]
    }
   ],
   "source": [
    "# View data head\n",
    "print(entities.head(5))\n",
    "# select only relevant columns \n",
    "print(entities.head()[['article_id','name','type','paragraph']])"
   ]
  },
  {
   "cell_type": "code",
   "execution_count": 298,
   "metadata": {},
   "outputs": [
    {
     "name": "stdout",
     "output_type": "stream",
     "text": [
      "    article_id                  name    type  paragraph\n",
      "1   331842      Daniel Fish           PERSON  1        \n",
      "2   331842      Rodgers               PERSON  1        \n",
      "3   331842      Hammerstein           PERSON  1        \n",
      "6   331842      Damon Daunno          PERSON  3        \n",
      "9   331842      Fish                  PERSON  6        \n",
      "11  331842      Oscar Hammerstein II  PERSON  7        \n",
      "12  331842      Fish                  PERSON  8        \n",
      "13  331842      Trevor Nunn           PERSON  8        \n",
      "14  331842      Susan Stroman         PERSON  8        \n",
      "17  331842      Lynn Riggs            PERSON  9        \n"
     ]
    },
    {
     "data": {
      "text/plain": [
       "1     DANIELFISH        \n",
       "2     RODGERS           \n",
       "3     HAMMERSTEIN       \n",
       "6     DAMONDAUNNO       \n",
       "9     FISH              \n",
       "11    OSCARHAMMERSTEINII\n",
       "12    FISH              \n",
       "13    TREVORNUNN        \n",
       "14    SUSANSTROMAN      \n",
       "17    LYNNRIGGS         \n",
       "Name: name, dtype: object"
      ]
     },
     "execution_count": 298,
     "metadata": {},
     "output_type": "execute_result"
    }
   ],
   "source": [
    "# print(articles.head(5)[['content', 'id']])\n",
    "\n",
    "\n",
    "# Get all entities that are type PEOPLE only \n",
    "entity_people = entities[entities['type'] == 'PERSON']\n",
    "print(entity_people.head(10)[['article_id','name','type','paragraph']])\n",
    "\n",
    "# Capitalise all names and remove spaces and non alphabetical characters\n",
    "entity_people_names_CAPITALS = entity_people['name'].str.upper().str.replace('\\W+', '')\n",
    "entity_people_names_CAPITALS.head(10)"
   ]
  },
  {
   "cell_type": "code",
   "execution_count": 299,
   "metadata": {},
   "outputs": [
    {
     "data": {
      "text/plain": [
       "1     False\n",
       "2     False\n",
       "3     False\n",
       "6     False\n",
       "9     False\n",
       "11    False\n",
       "12    True \n",
       "13    False\n",
       "14    False\n",
       "17    False\n",
       "18    False\n",
       "19    False\n",
       "20    False\n",
       "21    False\n",
       "22    False\n",
       "23    False\n",
       "24    False\n",
       "25    False\n",
       "26    False\n",
       "27    False\n",
       "Name: name, dtype: bool"
      ]
     },
     "execution_count": 299,
     "metadata": {},
     "output_type": "execute_result"
    }
   ],
   "source": [
    "# check to see if we have duplicate Names\n",
    "entity_people_names_CAPITALS.duplicated().head(20)  \n",
    "\n",
    "## YES, WE DO !"
   ]
  },
  {
   "cell_type": "markdown",
   "metadata": {},
   "source": [
    "# Libraries for distributed representations of words \n",
    "\n",
    "There are several methods to compute the DRs of words: \n",
    "1. word2Vec https://github.com/maxoodf/word2vec\n",
    "2. GloVe https://nlp.stanford.edu/projects/glove/\n",
    "3. fastText https://fasttext.cc/\n",
    "\n",
    "\n"
   ]
  },
  {
   "cell_type": "markdown",
   "metadata": {},
   "source": [
    "# Model 1 - Clustering entities with GloVe\n",
    "\n",
    "#### GloVe = Global Vectors for Word Representation\n",
    "\n",
    "GloVe is an unsupervised learning algorithm for obtaining vector representations for words. Training is performed on aggregated global word-word co-occurrence statistics from a corpus, and the resulting representations showcase interesting linear substructures of the word vector space.\n",
    "\n",
    "\n",
    "\n",
    "\n",
    "#### Inputs: Entity 1, Context String Entity 1, Entity 2, Context String Entity 2 \n",
    "#### Outputs: True/False \n",
    "\n",
    "\n",
    "#### Preprocessing \n",
    "Convert all Entities into lower or upper case format\n",
    "Select only entities that are categorised as 'People'\n",
    "\n",
    "#### Clustering\n",
    "for each (Entity + Context String) in the dataset \n",
    "        if we find a match \n",
    "            add it to the Map \n",
    "        else \n",
    "            create new entry in the Map \n",
    "        \n",
    "#### Post Processing \n",
    "Select the the entity representative of each bucket\n",
    "\n",
    "    "
   ]
  },
  {
   "cell_type": "code",
   "execution_count": null,
   "metadata": {
    "collapsed": true
   },
   "outputs": [],
   "source": []
  },
  {
   "cell_type": "markdown",
   "metadata": {},
   "source": [
    "# Model 2 - Entity Resolution with Dedupe\n",
    "\n"
   ]
  },
  {
   "cell_type": "code",
   "execution_count": 300,
   "metadata": {},
   "outputs": [
    {
     "data": {
      "text/html": [
       "<div>\n",
       "<style>\n",
       "    .dataframe thead tr:only-child th {\n",
       "        text-align: right;\n",
       "    }\n",
       "\n",
       "    .dataframe thead th {\n",
       "        text-align: left;\n",
       "    }\n",
       "\n",
       "    .dataframe tbody tr th {\n",
       "        vertical-align: top;\n",
       "    }\n",
       "</style>\n",
       "<table border=\"1\" class=\"dataframe\">\n",
       "  <thead>\n",
       "    <tr style=\"text-align: right;\">\n",
       "      <th></th>\n",
       "      <th>id</th>\n",
       "      <th>article_id</th>\n",
       "      <th>model</th>\n",
       "      <th>name</th>\n",
       "      <th>type</th>\n",
       "      <th>entity_id</th>\n",
       "      <th>paragraph</th>\n",
       "      <th>sentence</th>\n",
       "    </tr>\n",
       "  </thead>\n",
       "  <tbody>\n",
       "    <tr>\n",
       "      <th>1</th>\n",
       "      <td>27303857</td>\n",
       "      <td>331842</td>\n",
       "      <td>english.all.3class.distsim.crf.ser</td>\n",
       "      <td>Daniel Fish</td>\n",
       "      <td>PERSON</td>\n",
       "      <td>85567</td>\n",
       "      <td>1</td>\n",
       "      <td>2</td>\n",
       "    </tr>\n",
       "    <tr>\n",
       "      <th>2</th>\n",
       "      <td>27303858</td>\n",
       "      <td>331842</td>\n",
       "      <td>english.all.3class.distsim.crf.ser</td>\n",
       "      <td>Rodgers</td>\n",
       "      <td>PERSON</td>\n",
       "      <td>70833</td>\n",
       "      <td>1</td>\n",
       "      <td>2</td>\n",
       "    </tr>\n",
       "    <tr>\n",
       "      <th>3</th>\n",
       "      <td>27303859</td>\n",
       "      <td>331842</td>\n",
       "      <td>english.all.3class.distsim.crf.ser</td>\n",
       "      <td>Hammerstein</td>\n",
       "      <td>PERSON</td>\n",
       "      <td>98182</td>\n",
       "      <td>1</td>\n",
       "      <td>2</td>\n",
       "    </tr>\n",
       "    <tr>\n",
       "      <th>6</th>\n",
       "      <td>27303863</td>\n",
       "      <td>331842</td>\n",
       "      <td>english.all.3class.distsim.crf.ser</td>\n",
       "      <td>Damon Daunno</td>\n",
       "      <td>PERSON</td>\n",
       "      <td>546335</td>\n",
       "      <td>3</td>\n",
       "      <td>1</td>\n",
       "    </tr>\n",
       "    <tr>\n",
       "      <th>9</th>\n",
       "      <td>27303870</td>\n",
       "      <td>331842</td>\n",
       "      <td>english.all.3class.distsim.crf.ser</td>\n",
       "      <td>Fish</td>\n",
       "      <td>PERSON</td>\n",
       "      <td>85567</td>\n",
       "      <td>6</td>\n",
       "      <td>2</td>\n",
       "    </tr>\n",
       "  </tbody>\n",
       "</table>\n",
       "</div>"
      ],
      "text/plain": [
       "         id  article_id                               model          name    type  entity_id  paragraph  sentence\n",
       "1  27303857  331842      english.all.3class.distsim.crf.ser  Daniel Fish   PERSON  85567      1          2       \n",
       "2  27303858  331842      english.all.3class.distsim.crf.ser  Rodgers       PERSON  70833      1          2       \n",
       "3  27303859  331842      english.all.3class.distsim.crf.ser  Hammerstein   PERSON  98182      1          2       \n",
       "6  27303863  331842      english.all.3class.distsim.crf.ser  Damon Daunno  PERSON  546335     3          1       \n",
       "9  27303870  331842      english.all.3class.distsim.crf.ser  Fish          PERSON  85567      6          2       "
      ]
     },
     "execution_count": 300,
     "metadata": {},
     "output_type": "execute_result"
    }
   ],
   "source": [
    "entities.head()\n",
    "\n",
    "entity_people = entities[entities['type'] == 'PERSON']\n",
    "\n",
    "# print(entity_people[entity_people.name == 'HAMMERSTEIN'])\n",
    "entity_people.head()"
   ]
  },
  {
   "cell_type": "code",
   "execution_count": 301,
   "metadata": {},
   "outputs": [
    {
     "name": "stdout",
     "output_type": "stream",
     "text": [
      "Shape of entities : (2391, 8)\n",
      "Shape of entities : (1222, 8)\n"
     ]
    }
   ],
   "source": [
    "print(\"Shape of entities : {}\".format(entities.shape))\n",
    "print(\"Shape of entities : {}\".format(entity_people.shape))\n"
   ]
  },
  {
   "cell_type": "markdown",
   "metadata": {},
   "source": [
    "### FuzzyWuzzy\n",
    "Fuzzy string matching like a boss. It uses Levenshtein Distance to calculate the differences between sequences in a simple-to-use package.\n",
    "\n"
   ]
  },
  {
   "cell_type": "code",
   "execution_count": 302,
   "metadata": {},
   "outputs": [],
   "source": [
    "# fuzz is used to compare TWO strings\n",
    "from fuzzywuzzy import fuzz\n",
    "\n",
    "# process is used to compare a string to MULTIPLE other strings\n",
    "from fuzzywuzzy import process\n"
   ]
  },
  {
   "cell_type": "code",
   "execution_count": 317,
   "metadata": {},
   "outputs": [],
   "source": [
    "# for each name, check for similar entries\n",
    "def get_ratio(row): \n",
    "    name = fuzz.token_set_ratio(entity_people['name'], row['name'])\n",
    "#    print(\"one\", row['name'])\n",
    " #   print(name)\n",
    "  #  print(entity_people['name'])\n",
    "    entity_type = fuzz.token_set_ratio(entity_people['type'], row['type'])\n",
    "    article_id = fuzz.token_set_ratio(entity_people['article_id'], row['article_id'])\n",
    "    \n",
    "#     weights = [8.0, 2.0]\n",
    "        \n",
    "#     return np.average(np.array([name, entity_type]), weights=weights)\n",
    "    return np.average(np.array([name, entity_type, article_id]))"
   ]
  },
  {
   "cell_type": "code",
   "execution_count": 318,
   "metadata": {},
   "outputs": [
    {
     "data": {
      "text/html": [
       "<div>\n",
       "<style>\n",
       "    .dataframe thead tr:only-child th {\n",
       "        text-align: right;\n",
       "    }\n",
       "\n",
       "    .dataframe thead th {\n",
       "        text-align: left;\n",
       "    }\n",
       "\n",
       "    .dataframe tbody tr th {\n",
       "        vertical-align: top;\n",
       "    }\n",
       "</style>\n",
       "<table border=\"1\" class=\"dataframe\">\n",
       "  <thead>\n",
       "    <tr style=\"text-align: right;\">\n",
       "      <th></th>\n",
       "      <th>id</th>\n",
       "      <th>article_id</th>\n",
       "      <th>model</th>\n",
       "      <th>name</th>\n",
       "      <th>type</th>\n",
       "      <th>entity_id</th>\n",
       "      <th>paragraph</th>\n",
       "      <th>sentence</th>\n",
       "      <th>SCORE</th>\n",
       "    </tr>\n",
       "  </thead>\n",
       "  <tbody>\n",
       "    <tr>\n",
       "      <th>1</th>\n",
       "      <td>27303857</td>\n",
       "      <td>331842</td>\n",
       "      <td>english.all.3class.distsim.crf.ser</td>\n",
       "      <td>DANIELFISH</td>\n",
       "      <td>PERSON</td>\n",
       "      <td>85567</td>\n",
       "      <td>1</td>\n",
       "      <td>2</td>\n",
       "      <td>84.333333</td>\n",
       "    </tr>\n",
       "    <tr>\n",
       "      <th>2</th>\n",
       "      <td>27303858</td>\n",
       "      <td>331842</td>\n",
       "      <td>english.all.3class.distsim.crf.ser</td>\n",
       "      <td>RODGERS</td>\n",
       "      <td>PERSON</td>\n",
       "      <td>70833</td>\n",
       "      <td>1</td>\n",
       "      <td>2</td>\n",
       "      <td>100.000000</td>\n",
       "    </tr>\n",
       "    <tr>\n",
       "      <th>3</th>\n",
       "      <td>27303859</td>\n",
       "      <td>331842</td>\n",
       "      <td>english.all.3class.distsim.crf.ser</td>\n",
       "      <td>HAMMERSTEIN</td>\n",
       "      <td>PERSON</td>\n",
       "      <td>98182</td>\n",
       "      <td>1</td>\n",
       "      <td>2</td>\n",
       "      <td>100.000000</td>\n",
       "    </tr>\n",
       "    <tr>\n",
       "      <th>6</th>\n",
       "      <td>27303863</td>\n",
       "      <td>331842</td>\n",
       "      <td>english.all.3class.distsim.crf.ser</td>\n",
       "      <td>DAMONDAUNNO</td>\n",
       "      <td>PERSON</td>\n",
       "      <td>546335</td>\n",
       "      <td>3</td>\n",
       "      <td>1</td>\n",
       "      <td>67.666667</td>\n",
       "    </tr>\n",
       "    <tr>\n",
       "      <th>9</th>\n",
       "      <td>27303870</td>\n",
       "      <td>331842</td>\n",
       "      <td>english.all.3class.distsim.crf.ser</td>\n",
       "      <td>FISH</td>\n",
       "      <td>PERSON</td>\n",
       "      <td>85567</td>\n",
       "      <td>6</td>\n",
       "      <td>2</td>\n",
       "      <td>100.000000</td>\n",
       "    </tr>\n",
       "  </tbody>\n",
       "</table>\n",
       "</div>"
      ],
      "text/plain": [
       "         id  article_id                               model         name    type  entity_id  paragraph  sentence       SCORE\n",
       "1  27303857  331842      english.all.3class.distsim.crf.ser  DANIELFISH   PERSON  85567      1          2         84.333333 \n",
       "2  27303858  331842      english.all.3class.distsim.crf.ser  RODGERS      PERSON  70833      1          2         100.000000\n",
       "3  27303859  331842      english.all.3class.distsim.crf.ser  HAMMERSTEIN  PERSON  98182      1          2         100.000000\n",
       "6  27303863  331842      english.all.3class.distsim.crf.ser  DAMONDAUNNO  PERSON  546335     3          1         67.666667 \n",
       "9  27303870  331842      english.all.3class.distsim.crf.ser  FISH         PERSON  85567      6          2         100.000000"
      ]
     },
     "execution_count": 318,
     "metadata": {},
     "output_type": "execute_result"
    }
   ],
   "source": [
    "# add score column \n",
    "entity_people['SCORE']  = entities.apply(get_ratio, axis=1)\n",
    "\n",
    "entity_people.head()\n"
   ]
  },
  {
   "cell_type": "code",
   "execution_count": 319,
   "metadata": {},
   "outputs": [],
   "source": [
    "# entities.head(50)"
   ]
  },
  {
   "cell_type": "code",
   "execution_count": 325,
   "metadata": {},
   "outputs": [
    {
     "data": {
      "text/html": [
       "<div>\n",
       "<style>\n",
       "    .dataframe thead tr:only-child th {\n",
       "        text-align: right;\n",
       "    }\n",
       "\n",
       "    .dataframe thead th {\n",
       "        text-align: left;\n",
       "    }\n",
       "\n",
       "    .dataframe tbody tr th {\n",
       "        vertical-align: top;\n",
       "    }\n",
       "</style>\n",
       "<table border=\"1\" class=\"dataframe\">\n",
       "  <thead>\n",
       "    <tr style=\"text-align: right;\">\n",
       "      <th></th>\n",
       "      <th>id</th>\n",
       "      <th>article_id</th>\n",
       "      <th>model</th>\n",
       "      <th>name</th>\n",
       "      <th>type</th>\n",
       "      <th>entity_id</th>\n",
       "      <th>paragraph</th>\n",
       "      <th>sentence</th>\n",
       "      <th>SCORE</th>\n",
       "    </tr>\n",
       "  </thead>\n",
       "  <tbody>\n",
       "    <tr>\n",
       "      <th>1612</th>\n",
       "      <td>45233320</td>\n",
       "      <td>423770</td>\n",
       "      <td>english.all.3class.distsim.crf.ser</td>\n",
       "      <td>COX</td>\n",
       "      <td>PERSON</td>\n",
       "      <td>16347</td>\n",
       "      <td>20</td>\n",
       "      <td>1</td>\n",
       "      <td>34.666667</td>\n",
       "    </tr>\n",
       "    <tr>\n",
       "      <th>179</th>\n",
       "      <td>45289374</td>\n",
       "      <td>424080</td>\n",
       "      <td>english.all.3class.distsim.crf.ser</td>\n",
       "      <td>FOX</td>\n",
       "      <td>PERSON</td>\n",
       "      <td>2040</td>\n",
       "      <td>37</td>\n",
       "      <td>1</td>\n",
       "      <td>34.666667</td>\n",
       "    </tr>\n",
       "    <tr>\n",
       "      <th>1633</th>\n",
       "      <td>45233362</td>\n",
       "      <td>423770</td>\n",
       "      <td>english.all.3class.distsim.crf.ser</td>\n",
       "      <td>COX</td>\n",
       "      <td>PERSON</td>\n",
       "      <td>886400</td>\n",
       "      <td>28</td>\n",
       "      <td>2</td>\n",
       "      <td>34.666667</td>\n",
       "    </tr>\n",
       "    <tr>\n",
       "      <th>1628</th>\n",
       "      <td>45233353</td>\n",
       "      <td>423770</td>\n",
       "      <td>english.all.3class.distsim.crf.ser</td>\n",
       "      <td>COX</td>\n",
       "      <td>PERSON</td>\n",
       "      <td>868001</td>\n",
       "      <td>27</td>\n",
       "      <td>1</td>\n",
       "      <td>34.666667</td>\n",
       "    </tr>\n",
       "    <tr>\n",
       "      <th>2088</th>\n",
       "      <td>45047486</td>\n",
       "      <td>423298</td>\n",
       "      <td>english.all.3class.distsim.crf.ser</td>\n",
       "      <td>FOX</td>\n",
       "      <td>PERSON</td>\n",
       "      <td>2040</td>\n",
       "      <td>7</td>\n",
       "      <td>2</td>\n",
       "      <td>34.666667</td>\n",
       "    </tr>\n",
       "  </tbody>\n",
       "</table>\n",
       "</div>"
      ],
      "text/plain": [
       "            id  article_id                               model name    type  entity_id  paragraph  sentence      SCORE\n",
       "1612  45233320  423770      english.all.3class.distsim.crf.ser  COX  PERSON  16347      20         1         34.666667\n",
       "179   45289374  424080      english.all.3class.distsim.crf.ser  FOX  PERSON  2040       37         1         34.666667\n",
       "1633  45233362  423770      english.all.3class.distsim.crf.ser  COX  PERSON  886400     28         2         34.666667\n",
       "1628  45233353  423770      english.all.3class.distsim.crf.ser  COX  PERSON  868001     27         1         34.666667\n",
       "2088  45047486  423298      english.all.3class.distsim.crf.ser  FOX  PERSON  2040       7          2         34.666667"
      ]
     },
     "execution_count": 325,
     "metadata": {},
     "output_type": "execute_result"
    }
   ],
   "source": [
    "entity_people.head()\n",
    "entity_people = entity_people.assign(name=entities['name'].str.upper().str.replace('\\W+', ''))\n",
    "entity_people.loc[entities['type'] == 'PERSON'].sort_values('SCORE',ascending=True).head(5)\n",
    "# entity_people.loc[entities['type']=='PERSON'].sort_values('SCORE',ascending=False).head(70)\n"
   ]
  },
  {
   "cell_type": "raw",
   "metadata": {},
   "source": []
  },
  {
   "cell_type": "code",
   "execution_count": 322,
   "metadata": {},
   "outputs": [
    {
     "data": {
      "text/plain": [
       "[('DONALDTRUMP', 100, 528),\n",
       " ('DONALDTRUMP', 100, 864),\n",
       " ('DONALDTRUMP', 100, 1112),\n",
       " ('DONALDTRUMP', 100, 2104),\n",
       " ('DONALDJTRUMP', 96, 1893)]"
      ]
     },
     "execution_count": 322,
     "metadata": {},
     "output_type": "execute_result"
    }
   ],
   "source": [
    "process.extract(\"DONALDTRUMP\", entity_people.name, scorer=fuzz.token_sort_ratio)"
   ]
  },
  {
   "cell_type": "markdown",
   "metadata": {},
   "source": [
    "# Applying Dedupe"
   ]
  },
  {
   "cell_type": "code",
   "execution_count": 323,
   "metadata": {
    "collapsed": true
   },
   "outputs": [],
   "source": [
    "import logging; logging.disable(level=logging.NOTSET)"
   ]
  },
  {
   "cell_type": "code",
   "execution_count": 326,
   "metadata": {
    "collapsed": true
   },
   "outputs": [],
   "source": [
    "fields = [\n",
    "    {\n",
    "        'field': 'name',\n",
    "        'variable name': 'name',\n",
    "        'type': 'ShortString',\n",
    "    },\n",
    "    {\n",
    "        'field': 'article_id',\n",
    "        'variable name': 'article_id',\n",
    "        'type': 'String',\n",
    "    },\n",
    "    {\n",
    "        'field': 'type',\n",
    "        'variable name': 'type',\n",
    "        'type': 'ShortString',\n",
    "    },\n",
    "    {\n",
    "        'field': 'paragraph',\n",
    "        'variable name': 'paragraph',\n",
    "        'type': 'ShortString',\n",
    "    }\n",
    "\n",
    "{\n",
    "\"crf\": true,\n",
    "\"type\": \"Name\",\n",
    "\"field\": \"abs_name\",\n",
    "\"log file\": \"/tmp/name.csv\"\n",
    "},\n",
    "{\n",
    "\"type\": \"PositiveNumber\",\n",
    "\"field\": \"abs_article_id\"\n",
    "},\n",
    "{\n",
    "\"type\": \"PositiveNumber\",\n",
    "\"field\": \"abs_paragraph\"\n",
    "}\n",
    "\n",
    "]"
   ]
  },
  {
   "cell_type": "code",
   "execution_count": null,
   "metadata": {
    "collapsed": true
   },
   "outputs": [],
   "source": []
  }
 ],
 "metadata": {
  "kernelspec": {
   "display_name": "Python 3",
   "language": "python",
   "name": "python3"
  },
  "language_info": {
   "codemirror_mode": {
    "name": "ipython",
    "version": 3
   },
   "file_extension": ".py",
   "mimetype": "text/x-python",
   "name": "python",
   "nbconvert_exporter": "python",
   "pygments_lexer": "ipython3",
   "version": "3.6.10"
  }
 },
 "nbformat": 4,
 "nbformat_minor": 2
}
